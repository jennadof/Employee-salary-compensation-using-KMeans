{
  "nbformat": 4,
  "nbformat_minor": 0,
  "metadata": {
    "colab": {
      "name": "unsupervised learning project.ipynb",
      "provenance": [],
      "collapsed_sections": [],
      "authorship_tag": "ABX9TyPaEOLKT0IQogvAmApyd4t1",
      "include_colab_link": true
    },
    "kernelspec": {
      "name": "python3",
      "display_name": "Python 3"
    },
    "language_info": {
      "name": "python"
    }
  },
  "cells": [
    {
      "cell_type": "markdown",
      "metadata": {
        "id": "view-in-github",
        "colab_type": "text"
      },
      "source": [
        "<a href=\"https://colab.research.google.com/github/jennadof/Unsupervised-Learning/blob/main/unsupervised_learning_project.ipynb\" target=\"_parent\"><img src=\"https://colab.research.google.com/assets/colab-badge.svg\" alt=\"Open In Colab\"/></a>"
      ]
    },
    {
      "cell_type": "code",
      "source": [
        "import pandas as pd\n",
        "import numpy as np\n",
        "import seaborn as sns \n",
        "import matplotlib.pyplot as plt\n",
        "%matplotlib inline\n",
        "\n",
        "import scipy\n",
        "from scipy.cluster.hierarchy import dendrogram,linkage\n",
        "from scipy.cluster.hierarchy import fcluster\n",
        "from scipy.cluster.hierarchy import cophenet\n",
        "from scipy.spatial.distance import pdist\n",
        "from pylab import rcParams\n",
        "from sklearn.cluster import AgglomerativeClustering\n",
        "import sklearn.metrics as sm\n",
        "\n",
        "\n",
        "from pylab import rcParams\n",
        "from sklearn.cluster import AgglomerativeClustering\n",
        "import sklearn.metrics as sm\n"
      ],
      "metadata": {
        "id": "KL_otNq-bXgy"
      },
      "execution_count": 83,
      "outputs": []
    },
    {
      "cell_type": "code",
      "source": [
        "df=pd.read_csv('/content/Employee_Salary_Compensation.csv')\n",
        "df.head()\n"
      ],
      "metadata": {
        "colab": {
          "base_uri": "https://localhost:8080/",
          "height": 594
        },
        "id": "RK5vT0sfsMV5",
        "outputId": "1a95f9b5-e9cd-47a5-b123-cec265ccf4c4"
      },
      "execution_count": 84,
      "outputs": [
        {
          "output_type": "execute_result",
          "data": {
            "text/plain": [
              "   Organization Group Code Job Family Code Job Code Year Type  Year  \\\n",
              "0                        1            1000     1021  Calendar  2013   \n",
              "1                        1            1000     1023  Calendar  2013   \n",
              "2                        1            1000     1031  Calendar  2013   \n",
              "3                        1            1000     1054  Calendar  2013   \n",
              "4                        1            1000     1062  Calendar  2013   \n",
              "\n",
              "  Organization Group Department Code           Department  Union Code  \\\n",
              "0  Public Protection             ADP  ADP Adult Probation        21.0   \n",
              "1  Public Protection             ADP  ADP Adult Probation        21.0   \n",
              "2  Public Protection             ADP  ADP Adult Probation        21.0   \n",
              "3  Public Protection             ADP  ADP Adult Probation        21.0   \n",
              "4  Public Protection             ADP  ADP Adult Probation        21.0   \n",
              "\n",
              "                                             Union  ... Employee Identifier  \\\n",
              "0  Prof & Tech Engineers - Miscellaneous, Local 21  ...               37730   \n",
              "1  Prof & Tech Engineers - Miscellaneous, Local 21  ...               26574   \n",
              "2  Prof & Tech Engineers - Miscellaneous, Local 21  ...                8148   \n",
              "3  Prof & Tech Engineers - Miscellaneous, Local 21  ...               27436   \n",
              "4  Prof & Tech Engineers - Miscellaneous, Local 21  ...               37730   \n",
              "\n",
              "    Salaries  Overtime  Other Salaries  Total Salary  Retirement  \\\n",
              "0   57534.65       0.0            0.00      57534.65    11253.16   \n",
              "1   57678.50       0.0            0.00      57678.50    10284.88   \n",
              "2   63532.93       0.0            0.00      63532.93    12495.83   \n",
              "3  101274.51       0.0        -7058.59      94215.92    19644.45   \n",
              "4    5084.00       0.0            0.00       5084.00     1083.90   \n",
              "\n",
              "   Health and Dental  Other Benefits  Total Benefits  Total Compensation  \n",
              "0           11961.34         4532.63        27747.13            85281.78  \n",
              "1            7176.80         4755.14        22216.82            79895.32  \n",
              "2           12918.24         4702.71        30116.78            93649.71  \n",
              "3           12918.24         7458.76        40021.45           134237.37  \n",
              "4             956.91          387.50         2428.31             7512.31  \n",
              "\n",
              "[5 rows x 22 columns]"
            ],
            "text/html": [
              "\n",
              "  <div id=\"df-a076fa93-8c71-42e4-a20b-0e4423d6d819\">\n",
              "    <div class=\"colab-df-container\">\n",
              "      <div>\n",
              "<style scoped>\n",
              "    .dataframe tbody tr th:only-of-type {\n",
              "        vertical-align: middle;\n",
              "    }\n",
              "\n",
              "    .dataframe tbody tr th {\n",
              "        vertical-align: top;\n",
              "    }\n",
              "\n",
              "    .dataframe thead th {\n",
              "        text-align: right;\n",
              "    }\n",
              "</style>\n",
              "<table border=\"1\" class=\"dataframe\">\n",
              "  <thead>\n",
              "    <tr style=\"text-align: right;\">\n",
              "      <th></th>\n",
              "      <th>Organization Group Code</th>\n",
              "      <th>Job Family Code</th>\n",
              "      <th>Job Code</th>\n",
              "      <th>Year Type</th>\n",
              "      <th>Year</th>\n",
              "      <th>Organization Group</th>\n",
              "      <th>Department Code</th>\n",
              "      <th>Department</th>\n",
              "      <th>Union Code</th>\n",
              "      <th>Union</th>\n",
              "      <th>...</th>\n",
              "      <th>Employee Identifier</th>\n",
              "      <th>Salaries</th>\n",
              "      <th>Overtime</th>\n",
              "      <th>Other Salaries</th>\n",
              "      <th>Total Salary</th>\n",
              "      <th>Retirement</th>\n",
              "      <th>Health and Dental</th>\n",
              "      <th>Other Benefits</th>\n",
              "      <th>Total Benefits</th>\n",
              "      <th>Total Compensation</th>\n",
              "    </tr>\n",
              "  </thead>\n",
              "  <tbody>\n",
              "    <tr>\n",
              "      <th>0</th>\n",
              "      <td>1</td>\n",
              "      <td>1000</td>\n",
              "      <td>1021</td>\n",
              "      <td>Calendar</td>\n",
              "      <td>2013</td>\n",
              "      <td>Public Protection</td>\n",
              "      <td>ADP</td>\n",
              "      <td>ADP Adult Probation</td>\n",
              "      <td>21.0</td>\n",
              "      <td>Prof &amp; Tech Engineers - Miscellaneous, Local 21</td>\n",
              "      <td>...</td>\n",
              "      <td>37730</td>\n",
              "      <td>57534.65</td>\n",
              "      <td>0.0</td>\n",
              "      <td>0.00</td>\n",
              "      <td>57534.65</td>\n",
              "      <td>11253.16</td>\n",
              "      <td>11961.34</td>\n",
              "      <td>4532.63</td>\n",
              "      <td>27747.13</td>\n",
              "      <td>85281.78</td>\n",
              "    </tr>\n",
              "    <tr>\n",
              "      <th>1</th>\n",
              "      <td>1</td>\n",
              "      <td>1000</td>\n",
              "      <td>1023</td>\n",
              "      <td>Calendar</td>\n",
              "      <td>2013</td>\n",
              "      <td>Public Protection</td>\n",
              "      <td>ADP</td>\n",
              "      <td>ADP Adult Probation</td>\n",
              "      <td>21.0</td>\n",
              "      <td>Prof &amp; Tech Engineers - Miscellaneous, Local 21</td>\n",
              "      <td>...</td>\n",
              "      <td>26574</td>\n",
              "      <td>57678.50</td>\n",
              "      <td>0.0</td>\n",
              "      <td>0.00</td>\n",
              "      <td>57678.50</td>\n",
              "      <td>10284.88</td>\n",
              "      <td>7176.80</td>\n",
              "      <td>4755.14</td>\n",
              "      <td>22216.82</td>\n",
              "      <td>79895.32</td>\n",
              "    </tr>\n",
              "    <tr>\n",
              "      <th>2</th>\n",
              "      <td>1</td>\n",
              "      <td>1000</td>\n",
              "      <td>1031</td>\n",
              "      <td>Calendar</td>\n",
              "      <td>2013</td>\n",
              "      <td>Public Protection</td>\n",
              "      <td>ADP</td>\n",
              "      <td>ADP Adult Probation</td>\n",
              "      <td>21.0</td>\n",
              "      <td>Prof &amp; Tech Engineers - Miscellaneous, Local 21</td>\n",
              "      <td>...</td>\n",
              "      <td>8148</td>\n",
              "      <td>63532.93</td>\n",
              "      <td>0.0</td>\n",
              "      <td>0.00</td>\n",
              "      <td>63532.93</td>\n",
              "      <td>12495.83</td>\n",
              "      <td>12918.24</td>\n",
              "      <td>4702.71</td>\n",
              "      <td>30116.78</td>\n",
              "      <td>93649.71</td>\n",
              "    </tr>\n",
              "    <tr>\n",
              "      <th>3</th>\n",
              "      <td>1</td>\n",
              "      <td>1000</td>\n",
              "      <td>1054</td>\n",
              "      <td>Calendar</td>\n",
              "      <td>2013</td>\n",
              "      <td>Public Protection</td>\n",
              "      <td>ADP</td>\n",
              "      <td>ADP Adult Probation</td>\n",
              "      <td>21.0</td>\n",
              "      <td>Prof &amp; Tech Engineers - Miscellaneous, Local 21</td>\n",
              "      <td>...</td>\n",
              "      <td>27436</td>\n",
              "      <td>101274.51</td>\n",
              "      <td>0.0</td>\n",
              "      <td>-7058.59</td>\n",
              "      <td>94215.92</td>\n",
              "      <td>19644.45</td>\n",
              "      <td>12918.24</td>\n",
              "      <td>7458.76</td>\n",
              "      <td>40021.45</td>\n",
              "      <td>134237.37</td>\n",
              "    </tr>\n",
              "    <tr>\n",
              "      <th>4</th>\n",
              "      <td>1</td>\n",
              "      <td>1000</td>\n",
              "      <td>1062</td>\n",
              "      <td>Calendar</td>\n",
              "      <td>2013</td>\n",
              "      <td>Public Protection</td>\n",
              "      <td>ADP</td>\n",
              "      <td>ADP Adult Probation</td>\n",
              "      <td>21.0</td>\n",
              "      <td>Prof &amp; Tech Engineers - Miscellaneous, Local 21</td>\n",
              "      <td>...</td>\n",
              "      <td>37730</td>\n",
              "      <td>5084.00</td>\n",
              "      <td>0.0</td>\n",
              "      <td>0.00</td>\n",
              "      <td>5084.00</td>\n",
              "      <td>1083.90</td>\n",
              "      <td>956.91</td>\n",
              "      <td>387.50</td>\n",
              "      <td>2428.31</td>\n",
              "      <td>7512.31</td>\n",
              "    </tr>\n",
              "  </tbody>\n",
              "</table>\n",
              "<p>5 rows × 22 columns</p>\n",
              "</div>\n",
              "      <button class=\"colab-df-convert\" onclick=\"convertToInteractive('df-a076fa93-8c71-42e4-a20b-0e4423d6d819')\"\n",
              "              title=\"Convert this dataframe to an interactive table.\"\n",
              "              style=\"display:none;\">\n",
              "        \n",
              "  <svg xmlns=\"http://www.w3.org/2000/svg\" height=\"24px\"viewBox=\"0 0 24 24\"\n",
              "       width=\"24px\">\n",
              "    <path d=\"M0 0h24v24H0V0z\" fill=\"none\"/>\n",
              "    <path d=\"M18.56 5.44l.94 2.06.94-2.06 2.06-.94-2.06-.94-.94-2.06-.94 2.06-2.06.94zm-11 1L8.5 8.5l.94-2.06 2.06-.94-2.06-.94L8.5 2.5l-.94 2.06-2.06.94zm10 10l.94 2.06.94-2.06 2.06-.94-2.06-.94-.94-2.06-.94 2.06-2.06.94z\"/><path d=\"M17.41 7.96l-1.37-1.37c-.4-.4-.92-.59-1.43-.59-.52 0-1.04.2-1.43.59L10.3 9.45l-7.72 7.72c-.78.78-.78 2.05 0 2.83L4 21.41c.39.39.9.59 1.41.59.51 0 1.02-.2 1.41-.59l7.78-7.78 2.81-2.81c.8-.78.8-2.07 0-2.86zM5.41 20L4 18.59l7.72-7.72 1.47 1.35L5.41 20z\"/>\n",
              "  </svg>\n",
              "      </button>\n",
              "      \n",
              "  <style>\n",
              "    .colab-df-container {\n",
              "      display:flex;\n",
              "      flex-wrap:wrap;\n",
              "      gap: 12px;\n",
              "    }\n",
              "\n",
              "    .colab-df-convert {\n",
              "      background-color: #E8F0FE;\n",
              "      border: none;\n",
              "      border-radius: 50%;\n",
              "      cursor: pointer;\n",
              "      display: none;\n",
              "      fill: #1967D2;\n",
              "      height: 32px;\n",
              "      padding: 0 0 0 0;\n",
              "      width: 32px;\n",
              "    }\n",
              "\n",
              "    .colab-df-convert:hover {\n",
              "      background-color: #E2EBFA;\n",
              "      box-shadow: 0px 1px 2px rgba(60, 64, 67, 0.3), 0px 1px 3px 1px rgba(60, 64, 67, 0.15);\n",
              "      fill: #174EA6;\n",
              "    }\n",
              "\n",
              "    [theme=dark] .colab-df-convert {\n",
              "      background-color: #3B4455;\n",
              "      fill: #D2E3FC;\n",
              "    }\n",
              "\n",
              "    [theme=dark] .colab-df-convert:hover {\n",
              "      background-color: #434B5C;\n",
              "      box-shadow: 0px 1px 3px 1px rgba(0, 0, 0, 0.15);\n",
              "      filter: drop-shadow(0px 1px 2px rgba(0, 0, 0, 0.3));\n",
              "      fill: #FFFFFF;\n",
              "    }\n",
              "  </style>\n",
              "\n",
              "      <script>\n",
              "        const buttonEl =\n",
              "          document.querySelector('#df-a076fa93-8c71-42e4-a20b-0e4423d6d819 button.colab-df-convert');\n",
              "        buttonEl.style.display =\n",
              "          google.colab.kernel.accessAllowed ? 'block' : 'none';\n",
              "\n",
              "        async function convertToInteractive(key) {\n",
              "          const element = document.querySelector('#df-a076fa93-8c71-42e4-a20b-0e4423d6d819');\n",
              "          const dataTable =\n",
              "            await google.colab.kernel.invokeFunction('convertToInteractive',\n",
              "                                                     [key], {});\n",
              "          if (!dataTable) return;\n",
              "\n",
              "          const docLinkHtml = 'Like what you see? Visit the ' +\n",
              "            '<a target=\"_blank\" href=https://colab.research.google.com/notebooks/data_table.ipynb>data table notebook</a>'\n",
              "            + ' to learn more about interactive tables.';\n",
              "          element.innerHTML = '';\n",
              "          dataTable['output_type'] = 'display_data';\n",
              "          await google.colab.output.renderOutput(dataTable, element);\n",
              "          const docLink = document.createElement('div');\n",
              "          docLink.innerHTML = docLinkHtml;\n",
              "          element.appendChild(docLink);\n",
              "        }\n",
              "      </script>\n",
              "    </div>\n",
              "  </div>\n",
              "  "
            ]
          },
          "metadata": {},
          "execution_count": 84
        }
      ]
    },
    {
      "cell_type": "code",
      "source": [
        "df.shape"
      ],
      "metadata": {
        "colab": {
          "base_uri": "https://localhost:8080/"
        },
        "id": "1B7x3smysgkm",
        "outputId": "34832f47-b49b-4642-dcc4-92d4017fa8e9"
      },
      "execution_count": 85,
      "outputs": [
        {
          "output_type": "execute_result",
          "data": {
            "text/plain": [
              "(678524, 22)"
            ]
          },
          "metadata": {},
          "execution_count": 85
        }
      ]
    },
    {
      "cell_type": "code",
      "source": [
        "#printing attributes (columns) name\n",
        "print(\"Column Names:\", df.columns.values)"
      ],
      "metadata": {
        "colab": {
          "base_uri": "https://localhost:8080/"
        },
        "id": "1lkyxqJ8yjqU",
        "outputId": "7d4fbc39-3f6b-4c44-f722-7d8a99d34e1f"
      },
      "execution_count": 86,
      "outputs": [
        {
          "output_type": "stream",
          "name": "stdout",
          "text": [
            "Column Names: ['Organization Group Code' 'Job Family Code' 'Job Code' 'Year Type' 'Year'\n",
            " 'Organization Group' 'Department Code' 'Department' 'Union Code' 'Union'\n",
            " 'Job Family' 'Job' 'Employee Identifier' 'Salaries' 'Overtime'\n",
            " 'Other Salaries' 'Total Salary' 'Retirement' 'Health and Dental'\n",
            " 'Other Benefits' 'Total Benefits' 'Total Compensation']\n"
          ]
        }
      ]
    },
    {
      "cell_type": "code",
      "source": [
        "df.dtypes"
      ],
      "metadata": {
        "colab": {
          "base_uri": "https://localhost:8080/"
        },
        "id": "-k5rCRwvtQsT",
        "outputId": "f114eaab-2ecc-4b0a-dc81-10afa0a95aa1"
      },
      "execution_count": 87,
      "outputs": [
        {
          "output_type": "execute_result",
          "data": {
            "text/plain": [
              "Organization Group Code      int64\n",
              "Job Family Code             object\n",
              "Job Code                    object\n",
              "Year Type                   object\n",
              "Year                         int64\n",
              "Organization Group          object\n",
              "Department Code             object\n",
              "Department                  object\n",
              "Union Code                 float64\n",
              "Union                       object\n",
              "Job Family                  object\n",
              "Job                         object\n",
              "Employee Identifier          int64\n",
              "Salaries                   float64\n",
              "Overtime                   float64\n",
              "Other Salaries             float64\n",
              "Total Salary               float64\n",
              "Retirement                 float64\n",
              "Health and Dental          float64\n",
              "Other Benefits             float64\n",
              "Total Benefits             float64\n",
              "Total Compensation         float64\n",
              "dtype: object"
            ]
          },
          "metadata": {},
          "execution_count": 87
        }
      ]
    },
    {
      "cell_type": "code",
      "source": [
        "df.isnull().sum()"
      ],
      "metadata": {
        "colab": {
          "base_uri": "https://localhost:8080/"
        },
        "id": "nV62-HtH4F3i",
        "outputId": "fbc6bc5d-1ad6-4d22-e178-2c7d257117cc"
      },
      "execution_count": 88,
      "outputs": [
        {
          "output_type": "execute_result",
          "data": {
            "text/plain": [
              "Organization Group Code      0\n",
              "Job Family Code              0\n",
              "Job Code                     0\n",
              "Year Type                    0\n",
              "Year                         0\n",
              "Organization Group           0\n",
              "Department Code              2\n",
              "Department                   2\n",
              "Union Code                 179\n",
              "Union                      179\n",
              "Job Family                   0\n",
              "Job                          5\n",
              "Employee Identifier          0\n",
              "Salaries                     0\n",
              "Overtime                     0\n",
              "Other Salaries               0\n",
              "Total Salary                 0\n",
              "Retirement                   0\n",
              "Health and Dental            0\n",
              "Other Benefits               0\n",
              "Total Benefits               0\n",
              "Total Compensation           0\n",
              "dtype: int64"
            ]
          },
          "metadata": {},
          "execution_count": 88
        }
      ]
    },
    {
      "cell_type": "code",
      "source": [
        "df.columns"
      ],
      "metadata": {
        "colab": {
          "base_uri": "https://localhost:8080/"
        },
        "id": "dG3i5XARBv9T",
        "outputId": "d7958153-6ed7-4810-91be-0a6ac6257ba4"
      },
      "execution_count": 90,
      "outputs": [
        {
          "output_type": "execute_result",
          "data": {
            "text/plain": [
              "Index(['Organization Group Code', 'Job Family Code', 'Job Code', 'Year Type',\n",
              "       'Year', 'Organization Group', 'Department Code', 'Department',\n",
              "       'Union Code', 'Union', 'Job Family', 'Job', 'Employee Identifier',\n",
              "       'Salaries', 'Overtime', 'Other Salaries', 'Total Salary', 'Retirement',\n",
              "       'Health and Dental', 'Other Benefits', 'Total Benefits',\n",
              "       'Total Compensation'],\n",
              "      dtype='object')"
            ]
          },
          "metadata": {},
          "execution_count": 90
        }
      ]
    },
    {
      "cell_type": "code",
      "source": [
        "#delete columns or reduced number of columns\n",
        "\n",
        "df = df.drop(columns = ['Job Code','Union Code','Job Family Code','Year Type', 'Organization Group', 'Department Code', 'Department', 'Union','Job Family', 'Job', 'Organization Group Code'])\n",
        "\n",
        "\n",
        "\n",
        "\n"
      ],
      "metadata": {
        "id": "m0_si8bQ4KRj"
      },
      "execution_count": 91,
      "outputs": []
    },
    {
      "cell_type": "code",
      "source": [
        "df.columns"
      ],
      "metadata": {
        "colab": {
          "base_uri": "https://localhost:8080/"
        },
        "id": "dwEh43abCD6E",
        "outputId": "bf773c9a-cc80-4fe1-dee3-13435fa3289e"
      },
      "execution_count": 92,
      "outputs": [
        {
          "output_type": "execute_result",
          "data": {
            "text/plain": [
              "Index(['Year', 'Employee Identifier', 'Salaries', 'Overtime', 'Other Salaries',\n",
              "       'Total Salary', 'Retirement', 'Health and Dental', 'Other Benefits',\n",
              "       'Total Benefits', 'Total Compensation'],\n",
              "      dtype='object')"
            ]
          },
          "metadata": {},
          "execution_count": 92
        }
      ]
    },
    {
      "cell_type": "code",
      "source": [
        "df.info()"
      ],
      "metadata": {
        "colab": {
          "base_uri": "https://localhost:8080/"
        },
        "id": "K6kTpY6dXoLZ",
        "outputId": "8c374a25-7c1d-46ee-933e-4d59218f4e4e"
      },
      "execution_count": 93,
      "outputs": [
        {
          "output_type": "stream",
          "name": "stdout",
          "text": [
            "<class 'pandas.core.frame.DataFrame'>\n",
            "RangeIndex: 678524 entries, 0 to 678523\n",
            "Data columns (total 11 columns):\n",
            " #   Column               Non-Null Count   Dtype  \n",
            "---  ------               --------------   -----  \n",
            " 0   Year                 678524 non-null  int64  \n",
            " 1   Employee Identifier  678524 non-null  int64  \n",
            " 2   Salaries             678524 non-null  float64\n",
            " 3   Overtime             678524 non-null  float64\n",
            " 4   Other Salaries       678524 non-null  float64\n",
            " 5   Total Salary         678524 non-null  float64\n",
            " 6   Retirement           678524 non-null  float64\n",
            " 7   Health and Dental    678524 non-null  float64\n",
            " 8   Other Benefits       678524 non-null  float64\n",
            " 9   Total Benefits       678524 non-null  float64\n",
            " 10  Total Compensation   678524 non-null  float64\n",
            "dtypes: float64(9), int64(2)\n",
            "memory usage: 56.9 MB\n"
          ]
        }
      ]
    },
    {
      "cell_type": "code",
      "source": [
        "col_name=df.columns\n",
        "for i in col_name:\n",
        "    print(i,'has :',df[i].nunique(),\"Unique values\")"
      ],
      "metadata": {
        "colab": {
          "base_uri": "https://localhost:8080/"
        },
        "id": "iOHQa94ptUn9",
        "outputId": "0cca3717-4787-4147-ee2e-dbca700a79ab"
      },
      "execution_count": 94,
      "outputs": [
        {
          "output_type": "stream",
          "name": "stdout",
          "text": [
            "Year has : 8 Unique values\n",
            "Employee Identifier has : 322178 Unique values\n",
            "Salaries has : 497610 Unique values\n",
            "Overtime has : 266218 Unique values\n",
            "Other Salaries has : 307561 Unique values\n",
            "Total Salary has : 613748 Unique values\n",
            "Retirement has : 452677 Unique values\n",
            "Health and Dental has : 208405 Unique values\n",
            "Other Benefits has : 495763 Unique values\n",
            "Total Benefits has : 613267 Unique values\n",
            "Total Compensation has : 654483 Unique values\n"
          ]
        }
      ]
    },
    {
      "cell_type": "code",
      "source": [
        "df.columns"
      ],
      "metadata": {
        "colab": {
          "base_uri": "https://localhost:8080/"
        },
        "id": "TtiuhvRYkm23",
        "outputId": "f85087eb-27fd-40b9-f68a-172ab27b30d4"
      },
      "execution_count": 95,
      "outputs": [
        {
          "output_type": "execute_result",
          "data": {
            "text/plain": [
              "Index(['Year', 'Employee Identifier', 'Salaries', 'Overtime', 'Other Salaries',\n",
              "       'Total Salary', 'Retirement', 'Health and Dental', 'Other Benefits',\n",
              "       'Total Benefits', 'Total Compensation'],\n",
              "      dtype='object')"
            ]
          },
          "metadata": {},
          "execution_count": 95
        }
      ]
    },
    {
      "cell_type": "code",
      "source": [
        "df.describe()"
      ],
      "metadata": {
        "colab": {
          "base_uri": "https://localhost:8080/",
          "height": 361
        },
        "id": "iM5Ip7OktiPY",
        "outputId": "af42f82f-c045-4dec-bfa6-6f9e4e83fe94"
      },
      "execution_count": 96,
      "outputs": [
        {
          "output_type": "execute_result",
          "data": {
            "text/plain": [
              "                Year  Employee Identifier       Salaries       Overtime  \\\n",
              "count  678524.000000         6.785240e+05  678524.000000  678524.000000   \n",
              "mean     2016.541192         1.982334e+07   70626.560805    5592.672838   \n",
              "std         2.268684         1.970531e+07   48190.977875   13324.789874   \n",
              "min      2013.000000         0.000000e+00  -68771.780000  -12308.660000   \n",
              "25%      2015.000000         2.875200e+04   30502.342500       0.000000   \n",
              "50%      2017.000000         3.665566e+07   68942.825000       0.000000   \n",
              "75%      2019.000000         3.767592e+07  101887.527500    4429.512500   \n",
              "max      2020.000000         4.609664e+07  651936.710000  321523.310000   \n",
              "\n",
              "       Other Salaries   Total Salary     Retirement  Health and Dental  \\\n",
              "count   678524.000000  678524.000000  678524.000000      678524.000000   \n",
              "mean      3869.976380   79868.345059   14075.094654       10118.295876   \n",
              "std       8631.413917   56230.800682   10392.881265        5850.553543   \n",
              "min     -19131.100000  -68771.780000  -30621.430000       -3831.090000   \n",
              "25%          0.000000   33435.487500    5059.605000        4934.745000   \n",
              "50%        720.000000   76099.415000   14248.725000       12512.550000   \n",
              "75%       4399.657500  114259.067500   20619.282500       14391.605000   \n",
              "max     568163.120000  658867.570000  128694.620000       59405.230000   \n",
              "\n",
              "       Other Benefits  Total Benefits  Total Compensation  \n",
              "count   678524.000000   678524.000000       678524.000000  \n",
              "mean      5097.533951    29290.924481       109159.269539  \n",
              "std       3748.283728    18202.223207        73062.782901  \n",
              "min     -10636.500000   -21295.150000       -74082.610000  \n",
              "25%       1937.507500    12486.985000        46834.075000  \n",
              "50%       4965.885000    33102.795000       109394.735000  \n",
              "75%       7620.710000    41566.422500       156607.520000  \n",
              "max      35691.040000   166068.180000       807625.250000  "
            ],
            "text/html": [
              "\n",
              "  <div id=\"df-cf5f3038-d203-4e69-8e4e-55f3a5f0b646\">\n",
              "    <div class=\"colab-df-container\">\n",
              "      <div>\n",
              "<style scoped>\n",
              "    .dataframe tbody tr th:only-of-type {\n",
              "        vertical-align: middle;\n",
              "    }\n",
              "\n",
              "    .dataframe tbody tr th {\n",
              "        vertical-align: top;\n",
              "    }\n",
              "\n",
              "    .dataframe thead th {\n",
              "        text-align: right;\n",
              "    }\n",
              "</style>\n",
              "<table border=\"1\" class=\"dataframe\">\n",
              "  <thead>\n",
              "    <tr style=\"text-align: right;\">\n",
              "      <th></th>\n",
              "      <th>Year</th>\n",
              "      <th>Employee Identifier</th>\n",
              "      <th>Salaries</th>\n",
              "      <th>Overtime</th>\n",
              "      <th>Other Salaries</th>\n",
              "      <th>Total Salary</th>\n",
              "      <th>Retirement</th>\n",
              "      <th>Health and Dental</th>\n",
              "      <th>Other Benefits</th>\n",
              "      <th>Total Benefits</th>\n",
              "      <th>Total Compensation</th>\n",
              "    </tr>\n",
              "  </thead>\n",
              "  <tbody>\n",
              "    <tr>\n",
              "      <th>count</th>\n",
              "      <td>678524.000000</td>\n",
              "      <td>6.785240e+05</td>\n",
              "      <td>678524.000000</td>\n",
              "      <td>678524.000000</td>\n",
              "      <td>678524.000000</td>\n",
              "      <td>678524.000000</td>\n",
              "      <td>678524.000000</td>\n",
              "      <td>678524.000000</td>\n",
              "      <td>678524.000000</td>\n",
              "      <td>678524.000000</td>\n",
              "      <td>678524.000000</td>\n",
              "    </tr>\n",
              "    <tr>\n",
              "      <th>mean</th>\n",
              "      <td>2016.541192</td>\n",
              "      <td>1.982334e+07</td>\n",
              "      <td>70626.560805</td>\n",
              "      <td>5592.672838</td>\n",
              "      <td>3869.976380</td>\n",
              "      <td>79868.345059</td>\n",
              "      <td>14075.094654</td>\n",
              "      <td>10118.295876</td>\n",
              "      <td>5097.533951</td>\n",
              "      <td>29290.924481</td>\n",
              "      <td>109159.269539</td>\n",
              "    </tr>\n",
              "    <tr>\n",
              "      <th>std</th>\n",
              "      <td>2.268684</td>\n",
              "      <td>1.970531e+07</td>\n",
              "      <td>48190.977875</td>\n",
              "      <td>13324.789874</td>\n",
              "      <td>8631.413917</td>\n",
              "      <td>56230.800682</td>\n",
              "      <td>10392.881265</td>\n",
              "      <td>5850.553543</td>\n",
              "      <td>3748.283728</td>\n",
              "      <td>18202.223207</td>\n",
              "      <td>73062.782901</td>\n",
              "    </tr>\n",
              "    <tr>\n",
              "      <th>min</th>\n",
              "      <td>2013.000000</td>\n",
              "      <td>0.000000e+00</td>\n",
              "      <td>-68771.780000</td>\n",
              "      <td>-12308.660000</td>\n",
              "      <td>-19131.100000</td>\n",
              "      <td>-68771.780000</td>\n",
              "      <td>-30621.430000</td>\n",
              "      <td>-3831.090000</td>\n",
              "      <td>-10636.500000</td>\n",
              "      <td>-21295.150000</td>\n",
              "      <td>-74082.610000</td>\n",
              "    </tr>\n",
              "    <tr>\n",
              "      <th>25%</th>\n",
              "      <td>2015.000000</td>\n",
              "      <td>2.875200e+04</td>\n",
              "      <td>30502.342500</td>\n",
              "      <td>0.000000</td>\n",
              "      <td>0.000000</td>\n",
              "      <td>33435.487500</td>\n",
              "      <td>5059.605000</td>\n",
              "      <td>4934.745000</td>\n",
              "      <td>1937.507500</td>\n",
              "      <td>12486.985000</td>\n",
              "      <td>46834.075000</td>\n",
              "    </tr>\n",
              "    <tr>\n",
              "      <th>50%</th>\n",
              "      <td>2017.000000</td>\n",
              "      <td>3.665566e+07</td>\n",
              "      <td>68942.825000</td>\n",
              "      <td>0.000000</td>\n",
              "      <td>720.000000</td>\n",
              "      <td>76099.415000</td>\n",
              "      <td>14248.725000</td>\n",
              "      <td>12512.550000</td>\n",
              "      <td>4965.885000</td>\n",
              "      <td>33102.795000</td>\n",
              "      <td>109394.735000</td>\n",
              "    </tr>\n",
              "    <tr>\n",
              "      <th>75%</th>\n",
              "      <td>2019.000000</td>\n",
              "      <td>3.767592e+07</td>\n",
              "      <td>101887.527500</td>\n",
              "      <td>4429.512500</td>\n",
              "      <td>4399.657500</td>\n",
              "      <td>114259.067500</td>\n",
              "      <td>20619.282500</td>\n",
              "      <td>14391.605000</td>\n",
              "      <td>7620.710000</td>\n",
              "      <td>41566.422500</td>\n",
              "      <td>156607.520000</td>\n",
              "    </tr>\n",
              "    <tr>\n",
              "      <th>max</th>\n",
              "      <td>2020.000000</td>\n",
              "      <td>4.609664e+07</td>\n",
              "      <td>651936.710000</td>\n",
              "      <td>321523.310000</td>\n",
              "      <td>568163.120000</td>\n",
              "      <td>658867.570000</td>\n",
              "      <td>128694.620000</td>\n",
              "      <td>59405.230000</td>\n",
              "      <td>35691.040000</td>\n",
              "      <td>166068.180000</td>\n",
              "      <td>807625.250000</td>\n",
              "    </tr>\n",
              "  </tbody>\n",
              "</table>\n",
              "</div>\n",
              "      <button class=\"colab-df-convert\" onclick=\"convertToInteractive('df-cf5f3038-d203-4e69-8e4e-55f3a5f0b646')\"\n",
              "              title=\"Convert this dataframe to an interactive table.\"\n",
              "              style=\"display:none;\">\n",
              "        \n",
              "  <svg xmlns=\"http://www.w3.org/2000/svg\" height=\"24px\"viewBox=\"0 0 24 24\"\n",
              "       width=\"24px\">\n",
              "    <path d=\"M0 0h24v24H0V0z\" fill=\"none\"/>\n",
              "    <path d=\"M18.56 5.44l.94 2.06.94-2.06 2.06-.94-2.06-.94-.94-2.06-.94 2.06-2.06.94zm-11 1L8.5 8.5l.94-2.06 2.06-.94-2.06-.94L8.5 2.5l-.94 2.06-2.06.94zm10 10l.94 2.06.94-2.06 2.06-.94-2.06-.94-.94-2.06-.94 2.06-2.06.94z\"/><path d=\"M17.41 7.96l-1.37-1.37c-.4-.4-.92-.59-1.43-.59-.52 0-1.04.2-1.43.59L10.3 9.45l-7.72 7.72c-.78.78-.78 2.05 0 2.83L4 21.41c.39.39.9.59 1.41.59.51 0 1.02-.2 1.41-.59l7.78-7.78 2.81-2.81c.8-.78.8-2.07 0-2.86zM5.41 20L4 18.59l7.72-7.72 1.47 1.35L5.41 20z\"/>\n",
              "  </svg>\n",
              "      </button>\n",
              "      \n",
              "  <style>\n",
              "    .colab-df-container {\n",
              "      display:flex;\n",
              "      flex-wrap:wrap;\n",
              "      gap: 12px;\n",
              "    }\n",
              "\n",
              "    .colab-df-convert {\n",
              "      background-color: #E8F0FE;\n",
              "      border: none;\n",
              "      border-radius: 50%;\n",
              "      cursor: pointer;\n",
              "      display: none;\n",
              "      fill: #1967D2;\n",
              "      height: 32px;\n",
              "      padding: 0 0 0 0;\n",
              "      width: 32px;\n",
              "    }\n",
              "\n",
              "    .colab-df-convert:hover {\n",
              "      background-color: #E2EBFA;\n",
              "      box-shadow: 0px 1px 2px rgba(60, 64, 67, 0.3), 0px 1px 3px 1px rgba(60, 64, 67, 0.15);\n",
              "      fill: #174EA6;\n",
              "    }\n",
              "\n",
              "    [theme=dark] .colab-df-convert {\n",
              "      background-color: #3B4455;\n",
              "      fill: #D2E3FC;\n",
              "    }\n",
              "\n",
              "    [theme=dark] .colab-df-convert:hover {\n",
              "      background-color: #434B5C;\n",
              "      box-shadow: 0px 1px 3px 1px rgba(0, 0, 0, 0.15);\n",
              "      filter: drop-shadow(0px 1px 2px rgba(0, 0, 0, 0.3));\n",
              "      fill: #FFFFFF;\n",
              "    }\n",
              "  </style>\n",
              "\n",
              "      <script>\n",
              "        const buttonEl =\n",
              "          document.querySelector('#df-cf5f3038-d203-4e69-8e4e-55f3a5f0b646 button.colab-df-convert');\n",
              "        buttonEl.style.display =\n",
              "          google.colab.kernel.accessAllowed ? 'block' : 'none';\n",
              "\n",
              "        async function convertToInteractive(key) {\n",
              "          const element = document.querySelector('#df-cf5f3038-d203-4e69-8e4e-55f3a5f0b646');\n",
              "          const dataTable =\n",
              "            await google.colab.kernel.invokeFunction('convertToInteractive',\n",
              "                                                     [key], {});\n",
              "          if (!dataTable) return;\n",
              "\n",
              "          const docLinkHtml = 'Like what you see? Visit the ' +\n",
              "            '<a target=\"_blank\" href=https://colab.research.google.com/notebooks/data_table.ipynb>data table notebook</a>'\n",
              "            + ' to learn more about interactive tables.';\n",
              "          element.innerHTML = '';\n",
              "          dataTable['output_type'] = 'display_data';\n",
              "          await google.colab.output.renderOutput(dataTable, element);\n",
              "          const docLink = document.createElement('div');\n",
              "          docLink.innerHTML = docLinkHtml;\n",
              "          element.appendChild(docLink);\n",
              "        }\n",
              "      </script>\n",
              "    </div>\n",
              "  </div>\n",
              "  "
            ]
          },
          "metadata": {},
          "execution_count": 96
        }
      ]
    },
    {
      "cell_type": "code",
      "source": [
        "df.info()"
      ],
      "metadata": {
        "colab": {
          "base_uri": "https://localhost:8080/"
        },
        "id": "lR6bkeTkuBNp",
        "outputId": "3fde098d-282a-43b2-b046-8538c717aed1"
      },
      "execution_count": 97,
      "outputs": [
        {
          "output_type": "stream",
          "name": "stdout",
          "text": [
            "<class 'pandas.core.frame.DataFrame'>\n",
            "RangeIndex: 678524 entries, 0 to 678523\n",
            "Data columns (total 11 columns):\n",
            " #   Column               Non-Null Count   Dtype  \n",
            "---  ------               --------------   -----  \n",
            " 0   Year                 678524 non-null  int64  \n",
            " 1   Employee Identifier  678524 non-null  int64  \n",
            " 2   Salaries             678524 non-null  float64\n",
            " 3   Overtime             678524 non-null  float64\n",
            " 4   Other Salaries       678524 non-null  float64\n",
            " 5   Total Salary         678524 non-null  float64\n",
            " 6   Retirement           678524 non-null  float64\n",
            " 7   Health and Dental    678524 non-null  float64\n",
            " 8   Other Benefits       678524 non-null  float64\n",
            " 9   Total Benefits       678524 non-null  float64\n",
            " 10  Total Compensation   678524 non-null  float64\n",
            "dtypes: float64(9), int64(2)\n",
            "memory usage: 56.9 MB\n"
          ]
        }
      ]
    },
    {
      "cell_type": "code",
      "source": [
        "miss_val = df.isna().sum()\n",
        "miss_val"
      ],
      "metadata": {
        "colab": {
          "base_uri": "https://localhost:8080/"
        },
        "id": "LxQOlhNWxmKb",
        "outputId": "eb4d9126-fa71-42c9-f8b6-70df0e25f181"
      },
      "execution_count": 98,
      "outputs": [
        {
          "output_type": "execute_result",
          "data": {
            "text/plain": [
              "Year                   0\n",
              "Employee Identifier    0\n",
              "Salaries               0\n",
              "Overtime               0\n",
              "Other Salaries         0\n",
              "Total Salary           0\n",
              "Retirement             0\n",
              "Health and Dental      0\n",
              "Other Benefits         0\n",
              "Total Benefits         0\n",
              "Total Compensation     0\n",
              "dtype: int64"
            ]
          },
          "metadata": {},
          "execution_count": 98
        }
      ]
    },
    {
      "cell_type": "code",
      "source": [
        "df.Salaries.unique()"
      ],
      "metadata": {
        "colab": {
          "base_uri": "https://localhost:8080/"
        },
        "id": "tFbum7gILfaj",
        "outputId": "b99cc188-848e-4b50-cc5e-642bff17c149"
      },
      "execution_count": 99,
      "outputs": [
        {
          "output_type": "execute_result",
          "data": {
            "text/plain": [
              "array([ 57534.65,  57678.5 ,  63532.93, ...,   9416.71,  96475.  ,\n",
              "       115943.  ])"
            ]
          },
          "metadata": {},
          "execution_count": 99
        }
      ]
    },
    {
      "cell_type": "code",
      "source": [
        "x=df[(df['Salaries']!='?')]\n",
        "x=x.Salaries.median()\n",
        "x"
      ],
      "metadata": {
        "colab": {
          "base_uri": "https://localhost:8080/"
        },
        "id": "JyqdSlCoL69q",
        "outputId": "7b492244-3549-47ca-d741-14505d2bed3d"
      },
      "execution_count": 100,
      "outputs": [
        {
          "output_type": "execute_result",
          "data": {
            "text/plain": [
              "68942.825"
            ]
          },
          "metadata": {},
          "execution_count": 100
        }
      ]
    },
    {
      "cell_type": "code",
      "source": [
        "#df.Salaries.replace(to_replace='?',value=93.5,inplace=True)"
      ],
      "metadata": {
        "id": "pWOk1sQfOeTZ"
      },
      "execution_count": 101,
      "outputs": []
    },
    {
      "cell_type": "code",
      "source": [
        "df.Salaries.unique()"
      ],
      "metadata": {
        "colab": {
          "base_uri": "https://localhost:8080/"
        },
        "id": "l3AmhETxOimw",
        "outputId": "b052ce4e-ffd5-4a27-da16-0eff7ebf502c"
      },
      "execution_count": 102,
      "outputs": [
        {
          "output_type": "execute_result",
          "data": {
            "text/plain": [
              "array([ 57534.65,  57678.5 ,  63532.93, ...,   9416.71,  96475.  ,\n",
              "       115943.  ])"
            ]
          },
          "metadata": {},
          "execution_count": 102
        }
      ]
    },
    {
      "cell_type": "code",
      "source": [
        "df.describe()"
      ],
      "metadata": {
        "colab": {
          "base_uri": "https://localhost:8080/",
          "height": 361
        },
        "id": "cpRY08fdOpWC",
        "outputId": "86728ae9-f95f-435d-ec82-16773ed8cf80"
      },
      "execution_count": 103,
      "outputs": [
        {
          "output_type": "execute_result",
          "data": {
            "text/plain": [
              "                Year  Employee Identifier       Salaries       Overtime  \\\n",
              "count  678524.000000         6.785240e+05  678524.000000  678524.000000   \n",
              "mean     2016.541192         1.982334e+07   70626.560805    5592.672838   \n",
              "std         2.268684         1.970531e+07   48190.977875   13324.789874   \n",
              "min      2013.000000         0.000000e+00  -68771.780000  -12308.660000   \n",
              "25%      2015.000000         2.875200e+04   30502.342500       0.000000   \n",
              "50%      2017.000000         3.665566e+07   68942.825000       0.000000   \n",
              "75%      2019.000000         3.767592e+07  101887.527500    4429.512500   \n",
              "max      2020.000000         4.609664e+07  651936.710000  321523.310000   \n",
              "\n",
              "       Other Salaries   Total Salary     Retirement  Health and Dental  \\\n",
              "count   678524.000000  678524.000000  678524.000000      678524.000000   \n",
              "mean      3869.976380   79868.345059   14075.094654       10118.295876   \n",
              "std       8631.413917   56230.800682   10392.881265        5850.553543   \n",
              "min     -19131.100000  -68771.780000  -30621.430000       -3831.090000   \n",
              "25%          0.000000   33435.487500    5059.605000        4934.745000   \n",
              "50%        720.000000   76099.415000   14248.725000       12512.550000   \n",
              "75%       4399.657500  114259.067500   20619.282500       14391.605000   \n",
              "max     568163.120000  658867.570000  128694.620000       59405.230000   \n",
              "\n",
              "       Other Benefits  Total Benefits  Total Compensation  \n",
              "count   678524.000000   678524.000000       678524.000000  \n",
              "mean      5097.533951    29290.924481       109159.269539  \n",
              "std       3748.283728    18202.223207        73062.782901  \n",
              "min     -10636.500000   -21295.150000       -74082.610000  \n",
              "25%       1937.507500    12486.985000        46834.075000  \n",
              "50%       4965.885000    33102.795000       109394.735000  \n",
              "75%       7620.710000    41566.422500       156607.520000  \n",
              "max      35691.040000   166068.180000       807625.250000  "
            ],
            "text/html": [
              "\n",
              "  <div id=\"df-f644851d-98b5-4baf-afd1-65fbbef6e8f2\">\n",
              "    <div class=\"colab-df-container\">\n",
              "      <div>\n",
              "<style scoped>\n",
              "    .dataframe tbody tr th:only-of-type {\n",
              "        vertical-align: middle;\n",
              "    }\n",
              "\n",
              "    .dataframe tbody tr th {\n",
              "        vertical-align: top;\n",
              "    }\n",
              "\n",
              "    .dataframe thead th {\n",
              "        text-align: right;\n",
              "    }\n",
              "</style>\n",
              "<table border=\"1\" class=\"dataframe\">\n",
              "  <thead>\n",
              "    <tr style=\"text-align: right;\">\n",
              "      <th></th>\n",
              "      <th>Year</th>\n",
              "      <th>Employee Identifier</th>\n",
              "      <th>Salaries</th>\n",
              "      <th>Overtime</th>\n",
              "      <th>Other Salaries</th>\n",
              "      <th>Total Salary</th>\n",
              "      <th>Retirement</th>\n",
              "      <th>Health and Dental</th>\n",
              "      <th>Other Benefits</th>\n",
              "      <th>Total Benefits</th>\n",
              "      <th>Total Compensation</th>\n",
              "    </tr>\n",
              "  </thead>\n",
              "  <tbody>\n",
              "    <tr>\n",
              "      <th>count</th>\n",
              "      <td>678524.000000</td>\n",
              "      <td>6.785240e+05</td>\n",
              "      <td>678524.000000</td>\n",
              "      <td>678524.000000</td>\n",
              "      <td>678524.000000</td>\n",
              "      <td>678524.000000</td>\n",
              "      <td>678524.000000</td>\n",
              "      <td>678524.000000</td>\n",
              "      <td>678524.000000</td>\n",
              "      <td>678524.000000</td>\n",
              "      <td>678524.000000</td>\n",
              "    </tr>\n",
              "    <tr>\n",
              "      <th>mean</th>\n",
              "      <td>2016.541192</td>\n",
              "      <td>1.982334e+07</td>\n",
              "      <td>70626.560805</td>\n",
              "      <td>5592.672838</td>\n",
              "      <td>3869.976380</td>\n",
              "      <td>79868.345059</td>\n",
              "      <td>14075.094654</td>\n",
              "      <td>10118.295876</td>\n",
              "      <td>5097.533951</td>\n",
              "      <td>29290.924481</td>\n",
              "      <td>109159.269539</td>\n",
              "    </tr>\n",
              "    <tr>\n",
              "      <th>std</th>\n",
              "      <td>2.268684</td>\n",
              "      <td>1.970531e+07</td>\n",
              "      <td>48190.977875</td>\n",
              "      <td>13324.789874</td>\n",
              "      <td>8631.413917</td>\n",
              "      <td>56230.800682</td>\n",
              "      <td>10392.881265</td>\n",
              "      <td>5850.553543</td>\n",
              "      <td>3748.283728</td>\n",
              "      <td>18202.223207</td>\n",
              "      <td>73062.782901</td>\n",
              "    </tr>\n",
              "    <tr>\n",
              "      <th>min</th>\n",
              "      <td>2013.000000</td>\n",
              "      <td>0.000000e+00</td>\n",
              "      <td>-68771.780000</td>\n",
              "      <td>-12308.660000</td>\n",
              "      <td>-19131.100000</td>\n",
              "      <td>-68771.780000</td>\n",
              "      <td>-30621.430000</td>\n",
              "      <td>-3831.090000</td>\n",
              "      <td>-10636.500000</td>\n",
              "      <td>-21295.150000</td>\n",
              "      <td>-74082.610000</td>\n",
              "    </tr>\n",
              "    <tr>\n",
              "      <th>25%</th>\n",
              "      <td>2015.000000</td>\n",
              "      <td>2.875200e+04</td>\n",
              "      <td>30502.342500</td>\n",
              "      <td>0.000000</td>\n",
              "      <td>0.000000</td>\n",
              "      <td>33435.487500</td>\n",
              "      <td>5059.605000</td>\n",
              "      <td>4934.745000</td>\n",
              "      <td>1937.507500</td>\n",
              "      <td>12486.985000</td>\n",
              "      <td>46834.075000</td>\n",
              "    </tr>\n",
              "    <tr>\n",
              "      <th>50%</th>\n",
              "      <td>2017.000000</td>\n",
              "      <td>3.665566e+07</td>\n",
              "      <td>68942.825000</td>\n",
              "      <td>0.000000</td>\n",
              "      <td>720.000000</td>\n",
              "      <td>76099.415000</td>\n",
              "      <td>14248.725000</td>\n",
              "      <td>12512.550000</td>\n",
              "      <td>4965.885000</td>\n",
              "      <td>33102.795000</td>\n",
              "      <td>109394.735000</td>\n",
              "    </tr>\n",
              "    <tr>\n",
              "      <th>75%</th>\n",
              "      <td>2019.000000</td>\n",
              "      <td>3.767592e+07</td>\n",
              "      <td>101887.527500</td>\n",
              "      <td>4429.512500</td>\n",
              "      <td>4399.657500</td>\n",
              "      <td>114259.067500</td>\n",
              "      <td>20619.282500</td>\n",
              "      <td>14391.605000</td>\n",
              "      <td>7620.710000</td>\n",
              "      <td>41566.422500</td>\n",
              "      <td>156607.520000</td>\n",
              "    </tr>\n",
              "    <tr>\n",
              "      <th>max</th>\n",
              "      <td>2020.000000</td>\n",
              "      <td>4.609664e+07</td>\n",
              "      <td>651936.710000</td>\n",
              "      <td>321523.310000</td>\n",
              "      <td>568163.120000</td>\n",
              "      <td>658867.570000</td>\n",
              "      <td>128694.620000</td>\n",
              "      <td>59405.230000</td>\n",
              "      <td>35691.040000</td>\n",
              "      <td>166068.180000</td>\n",
              "      <td>807625.250000</td>\n",
              "    </tr>\n",
              "  </tbody>\n",
              "</table>\n",
              "</div>\n",
              "      <button class=\"colab-df-convert\" onclick=\"convertToInteractive('df-f644851d-98b5-4baf-afd1-65fbbef6e8f2')\"\n",
              "              title=\"Convert this dataframe to an interactive table.\"\n",
              "              style=\"display:none;\">\n",
              "        \n",
              "  <svg xmlns=\"http://www.w3.org/2000/svg\" height=\"24px\"viewBox=\"0 0 24 24\"\n",
              "       width=\"24px\">\n",
              "    <path d=\"M0 0h24v24H0V0z\" fill=\"none\"/>\n",
              "    <path d=\"M18.56 5.44l.94 2.06.94-2.06 2.06-.94-2.06-.94-.94-2.06-.94 2.06-2.06.94zm-11 1L8.5 8.5l.94-2.06 2.06-.94-2.06-.94L8.5 2.5l-.94 2.06-2.06.94zm10 10l.94 2.06.94-2.06 2.06-.94-2.06-.94-.94-2.06-.94 2.06-2.06.94z\"/><path d=\"M17.41 7.96l-1.37-1.37c-.4-.4-.92-.59-1.43-.59-.52 0-1.04.2-1.43.59L10.3 9.45l-7.72 7.72c-.78.78-.78 2.05 0 2.83L4 21.41c.39.39.9.59 1.41.59.51 0 1.02-.2 1.41-.59l7.78-7.78 2.81-2.81c.8-.78.8-2.07 0-2.86zM5.41 20L4 18.59l7.72-7.72 1.47 1.35L5.41 20z\"/>\n",
              "  </svg>\n",
              "      </button>\n",
              "      \n",
              "  <style>\n",
              "    .colab-df-container {\n",
              "      display:flex;\n",
              "      flex-wrap:wrap;\n",
              "      gap: 12px;\n",
              "    }\n",
              "\n",
              "    .colab-df-convert {\n",
              "      background-color: #E8F0FE;\n",
              "      border: none;\n",
              "      border-radius: 50%;\n",
              "      cursor: pointer;\n",
              "      display: none;\n",
              "      fill: #1967D2;\n",
              "      height: 32px;\n",
              "      padding: 0 0 0 0;\n",
              "      width: 32px;\n",
              "    }\n",
              "\n",
              "    .colab-df-convert:hover {\n",
              "      background-color: #E2EBFA;\n",
              "      box-shadow: 0px 1px 2px rgba(60, 64, 67, 0.3), 0px 1px 3px 1px rgba(60, 64, 67, 0.15);\n",
              "      fill: #174EA6;\n",
              "    }\n",
              "\n",
              "    [theme=dark] .colab-df-convert {\n",
              "      background-color: #3B4455;\n",
              "      fill: #D2E3FC;\n",
              "    }\n",
              "\n",
              "    [theme=dark] .colab-df-convert:hover {\n",
              "      background-color: #434B5C;\n",
              "      box-shadow: 0px 1px 3px 1px rgba(0, 0, 0, 0.15);\n",
              "      filter: drop-shadow(0px 1px 2px rgba(0, 0, 0, 0.3));\n",
              "      fill: #FFFFFF;\n",
              "    }\n",
              "  </style>\n",
              "\n",
              "      <script>\n",
              "        const buttonEl =\n",
              "          document.querySelector('#df-f644851d-98b5-4baf-afd1-65fbbef6e8f2 button.colab-df-convert');\n",
              "        buttonEl.style.display =\n",
              "          google.colab.kernel.accessAllowed ? 'block' : 'none';\n",
              "\n",
              "        async function convertToInteractive(key) {\n",
              "          const element = document.querySelector('#df-f644851d-98b5-4baf-afd1-65fbbef6e8f2');\n",
              "          const dataTable =\n",
              "            await google.colab.kernel.invokeFunction('convertToInteractive',\n",
              "                                                     [key], {});\n",
              "          if (!dataTable) return;\n",
              "\n",
              "          const docLinkHtml = 'Like what you see? Visit the ' +\n",
              "            '<a target=\"_blank\" href=https://colab.research.google.com/notebooks/data_table.ipynb>data table notebook</a>'\n",
              "            + ' to learn more about interactive tables.';\n",
              "          element.innerHTML = '';\n",
              "          dataTable['output_type'] = 'display_data';\n",
              "          await google.colab.output.renderOutput(dataTable, element);\n",
              "          const docLink = document.createElement('div');\n",
              "          docLink.innerHTML = docLinkHtml;\n",
              "          element.appendChild(docLink);\n",
              "        }\n",
              "      </script>\n",
              "    </div>\n",
              "  </div>\n",
              "  "
            ]
          },
          "metadata": {},
          "execution_count": 103
        }
      ]
    },
    {
      "cell_type": "code",
      "source": [
        "sns.distplot(df['Salaries'])\n",
        "plt.show()\n"
      ],
      "metadata": {
        "colab": {
          "base_uri": "https://localhost:8080/",
          "height": 347
        },
        "id": "LDfULBKtPf3J",
        "outputId": "9ea6d020-98c2-42dd-9d46-1f53914da933"
      },
      "execution_count": 104,
      "outputs": [
        {
          "output_type": "stream",
          "name": "stderr",
          "text": [
            "/usr/local/lib/python3.7/dist-packages/seaborn/distributions.py:2619: FutureWarning: `distplot` is a deprecated function and will be removed in a future version. Please adapt your code to use either `displot` (a figure-level function with similar flexibility) or `histplot` (an axes-level function for histograms).\n",
            "  warnings.warn(msg, FutureWarning)\n"
          ]
        },
        {
          "output_type": "display_data",
          "data": {
            "text/plain": [
              "<Figure size 432x288 with 1 Axes>"
            ],
            "image/png": "[encoded data removed]"
          },
          "metadata": {
            "needs_background": "light"
          }
        }
      ]
    },
    {
      "cell_type": "code",
      "source": [
        "print(\"Skewness: %f\" % df['Salaries'].skew())\n",
        "print(\"Kurtosis: %f\" % df['Salaries'].kurt())"
      ],
      "metadata": {
        "colab": {
          "base_uri": "https://localhost:8080/"
        },
        "id": "_ZTRBQc4TvuQ",
        "outputId": "e35e7ec2-b6bf-4fdd-aba2-d232a6d52e88"
      },
      "execution_count": 105,
      "outputs": [
        {
          "output_type": "stream",
          "name": "stdout",
          "text": [
            "Skewness: 0.575085\n",
            "Kurtosis: 0.771214\n"
          ]
        }
      ]
    },
    {
      "cell_type": "code",
      "source": [
        "from sklearn.cluster import KMeans\n",
        "\n"
      ],
      "metadata": {
        "id": "julaE9_GUQiZ"
      },
      "execution_count": 106,
      "outputs": []
    },
    {
      "cell_type": "code",
      "source": [
        "kmeans=KMeans(n_clusters=3)"
      ],
      "metadata": {
        "id": "iWZognv0UWah"
      },
      "execution_count": 107,
      "outputs": []
    },
    {
      "cell_type": "code",
      "source": [
        "df.columns"
      ],
      "metadata": {
        "colab": {
          "base_uri": "https://localhost:8080/"
        },
        "id": "wiRxLPO5Un69",
        "outputId": "f51c6560-069a-4ed7-d306-0ae58ecb055c"
      },
      "execution_count": 108,
      "outputs": [
        {
          "output_type": "execute_result",
          "data": {
            "text/plain": [
              "Index(['Year', 'Employee Identifier', 'Salaries', 'Overtime', 'Other Salaries',\n",
              "       'Total Salary', 'Retirement', 'Health and Dental', 'Other Benefits',\n",
              "       'Total Benefits', 'Total Compensation'],\n",
              "      dtype='object')"
            ]
          },
          "metadata": {},
          "execution_count": 108
        }
      ]
    },
    {
      "cell_type": "code",
      "source": [
        "kmeans.fit(df)"
      ],
      "metadata": {
        "colab": {
          "base_uri": "https://localhost:8080/"
        },
        "id": "_8OifTuuYgbn",
        "outputId": "764ff5d8-2e89-45df-afe0-e767d9444df9"
      },
      "execution_count": 109,
      "outputs": [
        {
          "output_type": "execute_result",
          "data": {
            "text/plain": [
              "KMeans(n_clusters=3)"
            ]
          },
          "metadata": {},
          "execution_count": 109
        }
      ]
    },
    {
      "cell_type": "code",
      "source": [
        "sns.countplot(x=kmeans.labels_ , palette = 'Blues_r')\n",
        "plt.show()"
      ],
      "metadata": {
        "colab": {
          "base_uri": "https://localhost:8080/",
          "height": 267
        },
        "id": "6SUhKWLzYnho",
        "outputId": "e08da7f7-fca6-4438-a779-2a113a8e8801"
      },
      "execution_count": 110,
      "outputs": [
        {
          "output_type": "display_data",
          "data": {
            "text/plain": [
              "<Figure size 432x288 with 1 Axes>"
            ],
            "image/png": "[encoded data removed]"
          },
          "metadata": {
            "needs_background": "light"
          }
        }
      ]
    },
    {
      "cell_type": "code",
      "source": [
        "from scipy.spatial.distance import cdist, pdist\n",
        "from sklearn.cluster import KMeans"
      ],
      "metadata": {
        "id": "d_sK2cMeZV2b"
      },
      "execution_count": 111,
      "outputs": []
    },
    {
      "cell_type": "code",
      "source": [
        "distortions = []\n",
        "inertias = []\n",
        "mapping1 = {}\n",
        "mapping2 = {}\n",
        "K = range(1, 10)\n",
        "X= df\n",
        " \n",
        "for k in K:\n",
        "    # Building and fitting the model\n",
        "    kmeanModel = KMeans(n_clusters=k).fit(X)\n",
        "    kmeanModel.fit(X)\n",
        " \n",
        "    distortions.append(sum(np.min(cdist(X, kmeanModel.cluster_centers_,\n",
        "                                        'euclidean'), axis=1)) / X.shape[0])\n",
        "    inertias.append(kmeanModel.inertia_)\n",
        " \n",
        "    mapping1[k] = sum(np.min(cdist(X, kmeanModel.cluster_centers_,\n",
        "                                   'euclidean'), axis=1)) / X.shape[0]\n",
        "    mapping2[k] = kmeanModel.inertia_\n"
      ],
      "metadata": {
        "id": "ylVg3aWIYnxp"
      },
      "execution_count": 112,
      "outputs": []
    },
    {
      "cell_type": "code",
      "source": [
        "plt.plot(K,distortions,\"bx-\")\n",
        "plt.xlabel('value of k')\n",
        "plt.ylabel('Dist')\n",
        "plt.title('Elbow method')\n",
        "plt.show()"
      ],
      "metadata": {
        "colab": {
          "base_uri": "https://localhost:8080/",
          "height": 295
        },
        "id": "MOu_YtJYYoFg",
        "outputId": "15711ef7-0d2b-40f8-a08f-22d38711b9cd"
      },
      "execution_count": 115,
      "outputs": [
        {
          "output_type": "display_data",
          "data": {
            "text/plain": [
              "<Figure size 432x288 with 1 Axes>"
            ],
            "image/png": "[encoded data removed]"
          },
          "metadata": {
            "needs_background": "light"
          }
        }
      ]
    },
    {
      "cell_type": "code",
      "source": [
        "kmeans = KMeans(n_clusters=2)\n",
        "kmeans.fit(df)"
      ],
      "metadata": {
        "colab": {
          "base_uri": "https://localhost:8080/"
        },
        "id": "8Oda_ZisaoPe",
        "outputId": "5d90b712-68d2-4b7d-98d3-b8664bd8bf83"
      },
      "execution_count": 116,
      "outputs": [
        {
          "output_type": "execute_result",
          "data": {
            "text/plain": [
              "KMeans(n_clusters=2)"
            ]
          },
          "metadata": {},
          "execution_count": 116
        }
      ]
    },
    {
      "cell_type": "code",
      "source": [
        "sns.countplot(x=kmeans.labels_,palette='Oranges')\n",
        "plt.show()"
      ],
      "metadata": {
        "colab": {
          "base_uri": "https://localhost:8080/",
          "height": 265
        },
        "id": "281bgeXWa5qO",
        "outputId": "57ff3784-958f-45a5-93b3-24b4b626f273"
      },
      "execution_count": 123,
      "outputs": [
        {
          "output_type": "display_data",
          "data": {
            "text/plain": [
              "<Figure size 432x288 with 1 Axes>"
            ],
            "image/png": "[encoded data removed]"
          },
          "metadata": {
            "needs_background": "light"
          }
        }
      ]
    },
    {
      "cell_type": "code",
      "source": [
        "y = kmeans.labels_"
      ],
      "metadata": {
        "id": "0n3aO9PFbwYq"
      },
      "execution_count": 121,
      "outputs": []
    },
    {
      "cell_type": "code",
      "source": [
        "from sklearn.metrics import silhouette_score\n",
        "silhouette_score(X,y)"
      ],
      "metadata": {
        "colab": {
          "base_uri": "https://localhost:8080/"
        },
        "id": "eU1b_jIOYohZ",
        "outputId": "ce87ceed-6a70-4b97-a64a-4a4428f5a5e3"
      },
      "execution_count": 122,
      "outputs": [
        {
          "output_type": "execute_result",
          "data": {
            "text/plain": [
              "0.9627173717912595"
            ]
          },
          "metadata": {},
          "execution_count": 122
        }
      ]
    },
    {
      "cell_type": "code",
      "source": [
        "# The K-Mean model is easy to fit the dataset because the dataset was large"
      ],
      "metadata": {
        "id": "fRxjrVFC5mQ4"
      },
      "execution_count": null,
      "outputs": []
    }
  ]
}